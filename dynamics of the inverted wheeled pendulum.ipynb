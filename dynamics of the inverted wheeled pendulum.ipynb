{
 "cells": [
  {
   "cell_type": "code",
   "execution_count": 30,
   "metadata": {},
   "outputs": [
    {
     "data": {
      "text/html": [
       "<style>.container { width:100% !important; }</style>"
      ],
      "text/plain": [
       "<IPython.core.display.HTML object>"
      ]
     },
     "metadata": {},
     "output_type": "display_data"
    }
   ],
   "source": [
    "from IPython.core.display import display, HTML\n",
    "display(HTML(\"<style>.container { width:100% !important; }</style>\"))"
   ]
  },
  {
   "cell_type": "code",
   "execution_count": 31,
   "metadata": {},
   "outputs": [],
   "source": [
    "import copy\n",
    "import math\n",
    "import numpy as np\n",
    "from scipy.optimize import minimize\n",
    "from sympy import *\n",
    "import sympy.core.numbers #instead of deprecated: import numbers\n",
    "from sympy.physics.vector import dynamicsymbols\n",
    "from sympy.physics.vector.printing import vpprint\n",
    "init_printing(use_unicode=True)\n",
    "import matplotlib.pyplot as plt"
   ]
  },
  {
   "cell_type": "code",
   "execution_count": 32,
   "metadata": {},
   "outputs": [],
   "source": [
    "#sympy is a symbolic mathematics package. Here are some useful starters:\n",
    "if 0==1:\n",
    "    x,y=symbols(\"x y\"); (y + sqrt(x)**3).find(lambda s: s.is_Pow and s.exp.is_Rational and s.exp.q == 2) #results in: {x(t)**(3/2)}\n",
    "    source(simplify) #will print documentation and source\n",
    "    ?simplify #will open separate window and show documentation\n",
    "    S(5) #keeps sympy exact numbers, does not transform to python floats.\n",
    "    pi.n(100) #calculates to 100 digits"
   ]
  },
  {
   "cell_type": "code",
   "execution_count": 33,
   "metadata": {},
   "outputs": [],
   "source": [
    "def subs(expr,subsdict): #apply substitutions to standard python objects not covered by .subs() method\n",
    "    if type(expr)==type([]): return [subs(i,subsdict) for i in expr]\n",
    "    if type(expr)==type(tuple()): return tuple([subs(i,subsdict) for i in list(expr)])\n",
    "    if type(expr)==type({}): return {k:v.subs(subsdict) for k,v in expr.items()}\n",
    "    if type(expr)==type(Eq(0,t)): return Eq(expr.lhs.subs(subsdict),expr.rhs.subs(subsdict))\n",
    "    try:\n",
    "        return expr.subs(subsdict).doit()  #expr==True etc will result in errors, this is a simple (and not perfect) way to handle these cases\n",
    "    except:\n",
    "        return expr\n",
    "    \n",
    "def simp(expr): #apply substitutions to standard python objects not covered by .subs() method\n",
    "    if type(expr)==type([]): return [simp(i) for i in expr]\n",
    "    if type(expr)==type(tuple()): return tuple([simp(i) for i in list(expr)])\n",
    "    if type(expr)==type({}): return {k:simp(v) for k,v in expr.items()}\n",
    "    if type(expr)==type(Eq(0,t)): return Eq(simp(expr.lhs),simp(expr.rhs))\n",
    "    try:\n",
    "        return expr.simplify() \n",
    "    except:\n",
    "        return expr"
   ]
  },
  {
   "cell_type": "code",
   "execution_count": 34,
   "metadata": {},
   "outputs": [],
   "source": [
    "#Taylor series expansion\n",
    "#z=symbols(\"z\"); series(sin(z),x=z,x0=0,n=4).removeO() #this is how built-in series function works. However, it does not work for dynamicsymbols, where I need it\n",
    "t=symbols(\"t\") #this is the time\n",
    "def series2(expr,vari,vari0=0,order=1,shield_th=True):\n",
    "    result=0\n",
    "    factor=1\n",
    "    if shield_th:\n",
    "        th1p,th2p=symbols(\"th1p th2p\")\n",
    "        expr=expr.subs(diff(th,t,2),th2p).subs(diff(th,t),th1p)\n",
    "    for i in range(order+1):\n",
    "        result+=expr.subs(vari,vari0)*factor\n",
    "        if i<order:\n",
    "            factor*=vari/(i+1)\n",
    "            expr=diff(expr,vari)\n",
    "    if shield_th:\n",
    "        result=result.subs(th2p,diff(th,t,2)).subs(th1p,diff(th,t))\n",
    "    return result\n",
    "th,Fext=dynamicsymbols(\"th Fext\")\n",
    "assert(series2(cos(th),th,0,5)==th**4/24-th**2/2+1)\n",
    "#series2(diff(th,t),th,0,3,shield_th=False) #returns diff(0,t), so need shield_th = True to avoid\n",
    "assert(series2(diff(th,t),th,0,3)==diff(th,t))\n",
    "\n",
    "#calculate first order expressions in th and Fext (as needed for the linearized dynamics of the system)\n",
    "def simpfirstorder(expr):\n",
    "    #expr=expr.subs(simple).simplify()  #without subs(solis) this works just as well, but gives a complex result (as expected). the subs(solis) can also be done a the end\n",
    "    expr=series2(expr, th,0, 1) \n",
    "    expr=series2(expr,Fext,0, 1)\n",
    "    expr=expr.simplify()\n",
    "    return expr\n",
    "assert(simpfirstorder(diff(th,t,2))==diff(th,t,2))\n",
    "assert(simpfirstorder(sin(th)*(1+Fext+Fext**2))==(Fext+1)*th)\n",
    "\n",
    "#and allow to cascade through standard data types\n",
    "def sfo(expr):\n",
    "    if type(expr)==type([]): return [sfo(i) for i in expr]\n",
    "    if type(expr)==type({}): return {k:sfo(v) for k,v in expr.items()}\n",
    "    if type(expr)==type(Eq(0,t)): return Eq(sfo(expr.lhs),sfo(expr.rhs))\n",
    "    try:\n",
    "        return simpfirstorder(expr)  #expr==True etc will result in errors\n",
    "    except:\n",
    "        return expr\n",
    "assert(sfo(diff(th,t,2))==diff(th,t,2))\n",
    "assert(sfo(diff(th,t,1))==diff(th,t,1))"
   ]
  },
  {
   "attachments": {
    "image.png": {
     "image/png": "[encoded data removed]"
    }
   },
   "cell_type": "markdown",
   "metadata": {},
   "source": [
    "Model for the inverted pendulum:\n",
    "![image.png](attachment:image.png)"
   ]
  },
  {
   "cell_type": "code",
   "execution_count": 35,
   "metadata": {},
   "outputs": [],
   "source": [
    "M,m,L,g = symbols('M,m,L,g'.replace(\",\",\" \")) #these are the constants of the system\n",
    "num={g:9.81,L:0.5,M:0.25,m:0.4} #numeric values as used by Lego robot, in mks=meter/kilogram/second system\n",
    "t=symbols(\"t\") #this is the time\n",
    "x,y,h,u,th,FL = dynamicsymbols('x,y,h,u,th,FL'.replace(\",\",\" \")) #dynamicsymbols defines these as functions of time t\n",
    "assert(diff(M,t)==0) #check to see whether time derivatives are handled correctly\n",
    "assert(diff(t,t)==1)\n",
    "assert(diff(x,t)==Derivative(x,t)) "
   ]
  },
  {
   "cell_type": "code",
   "execution_count": 36,
   "metadata": {},
   "outputs": [
    {
     "data": {
      "text/plain": [
       "'[y = L⋅sin(th) + x, h = L⋅cos(th), M⋅ẍ = -FL⋅sin(th) + u, m⋅ÿ = FL⋅sin(th), \\nm⋅ḧ = -g⋅m + FL⋅cos(th)]'"
      ]
     },
     "execution_count": 36,
     "metadata": {},
     "output_type": "execute_result"
    }
   ],
   "source": [
    "eq1=Eq(y,x+L*sin(th)) # 2 equations for y and h, coming from the geometry of the system\n",
    "eq2=Eq(h,L*cos(th)) \n",
    "eq3=Eq(M*diff(x,t,2),u-FL*sin(th)) # 3 equations of motion for 2 masses (M does not have a vertical motion, this would be 4th equation of motion)\n",
    "eq4=Eq(m*diff(y,t,2),FL*sin(th))\n",
    "eq5=Eq(m*diff(h,t,2),-m*g+FL*cos(th))\n",
    "eqs0=[eq1,eq2,eq3,eq4,eq5] # collection of all equations\n",
    "vpprint(eqs0) #printed nicely with dots as time derivative"
   ]
  },
  {
   "cell_type": "code",
   "execution_count": 37,
   "metadata": {},
   "outputs": [
    {
     "data": {
      "text/latex": [
       "$\\displaystyle \\left[ \\text{True}, \\  \\text{True}, \\  \\text{True}, \\  m \\left(- L \\sin{\\left(\\operatorname{th}{\\left(t \\right)} \\right)} \\left(\\frac{d}{d t} \\operatorname{th}{\\left(t \\right)}\\right)^{2} + L \\cos{\\left(\\operatorname{th}{\\left(t \\right)} \\right)} \\frac{d^{2}}{d t^{2}} \\operatorname{th}{\\left(t \\right)} + \\frac{d^{2}}{d t^{2}} x{\\left(t \\right)}\\right) = - M \\frac{d^{2}}{d t^{2}} x{\\left(t \\right)} + u{\\left(t \\right)}, \\  - L m \\left(\\sin{\\left(\\operatorname{th}{\\left(t \\right)} \\right)} \\frac{d^{2}}{d t^{2}} \\operatorname{th}{\\left(t \\right)} + \\cos{\\left(\\operatorname{th}{\\left(t \\right)} \\right)} \\left(\\frac{d}{d t} \\operatorname{th}{\\left(t \\right)}\\right)^{2}\\right) = - g m + \\frac{\\left(- M \\frac{d^{2}}{d t^{2}} x{\\left(t \\right)} + u{\\left(t \\right)}\\right) \\cos{\\left(\\operatorname{th}{\\left(t \\right)} \\right)}}{\\sin{\\left(\\operatorname{th}{\\left(t \\right)} \\right)}}\\right]$"
      ],
      "text/plain": [
       "⎡                                                                             \n",
       "⎢                                                                             \n",
       "⎢                                                                             \n",
       "⎢                    ⎛                          2                  2          \n",
       "⎢                    ⎜               ⎛d        ⎞                  d           \n",
       "⎢True, True, True, m⋅⎜- L⋅sin(th(t))⋅⎜──(th(t))⎟  + L⋅cos(th(t))⋅───(th(t)) + \n",
       "⎢                    ⎜               ⎝dt       ⎠                   2          \n",
       "⎣                    ⎝                                           dt           \n",
       "\n",
       "                                                                              \n",
       "                                                                              \n",
       "                                                                              \n",
       "  2      ⎞         2                    ⎛             2                       \n",
       " d       ⎟        d                     ⎜            d                      ⎛d\n",
       "───(x(t))⎟ = - M⋅───(x(t)) + u(t), -L⋅m⋅⎜sin(th(t))⋅───(th(t)) + cos(th(t))⋅⎜─\n",
       "  2      ⎟         2                    ⎜             2                     ⎝d\n",
       "dt       ⎠       dt                     ⎝           dt                        \n",
       "\n",
       "                     ⎛      2             ⎞           ⎤\n",
       "                     ⎜     d              ⎟           ⎥\n",
       "                     ⎜- M⋅───(x(t)) + u(t)⎟⋅cos(th(t))⎥\n",
       "         2⎞          ⎜      2             ⎟           ⎥\n",
       "        ⎞ ⎟          ⎝    dt              ⎠           ⎥\n",
       "─(th(t))⎟ ⎟ = -g⋅m + ─────────────────────────────────⎥\n",
       "t       ⎠ ⎟                      sin(th(t))           ⎥\n",
       "          ⎠                                           ⎦"
      ]
     },
     "execution_count": 37,
     "metadata": {},
     "output_type": "execute_result"
    }
   ],
   "source": [
    "assert(solve(eq2,h)[0]==L*cos(th)) #this solves eq2 for h and takes the only=first solution, which is in element 0\n",
    "eqs1=[eq.subs(h,solve(eq2,h)[0]).doit() for eq in eqs0] #solve for h and replace it in other equations\n",
    "eqs2=[eq.subs(y,solve(eqs1[0],y)[0]).doit() for eq in eqs1] #solve for y and replace in other equations\n",
    "eqs3=[eq.subs(FL,solve(eqs2[2],FL)[0]).doit() for eq in eqs2] #solve for FL and replace in other equations\n",
    "eqs3 #this results in 3x True and two remaining equations of involving the 2nd derivatives of x and th"
   ]
  },
  {
   "cell_type": "code",
   "execution_count": 38,
   "metadata": {},
   "outputs": [
    {
     "data": {
      "image/png": "[encoded data removed]",
      "text/latex": [
       "$\\displaystyle \\frac{L m \\sin{\\left(\\operatorname{th}{\\left(t \\right)} \\right)} \\left(\\frac{d}{d t} \\operatorname{th}{\\left(t \\right)}\\right)^{2} - L m \\cos{\\left(\\operatorname{th}{\\left(t \\right)} \\right)} \\frac{d^{2}}{d t^{2}} \\operatorname{th}{\\left(t \\right)} + u{\\left(t \\right)}}{M + m}$"
      ],
      "text/plain": [
       "                          2                    2              \n",
       "               ⎛d        ⎞                    d               \n",
       "L⋅m⋅sin(th(t))⋅⎜──(th(t))⎟  - L⋅m⋅cos(th(t))⋅───(th(t)) + u(t)\n",
       "               ⎝dt       ⎠                     2              \n",
       "                                             dt               \n",
       "──────────────────────────────────────────────────────────────\n",
       "                            M + m                             "
      ]
     },
     "execution_count": 38,
     "metadata": {},
     "output_type": "execute_result"
    }
   ],
   "source": [
    "solxpp=solve(eqs3[3],diff(x,t,2))[0].simplify() #solve 1st remaining equation for diff(x,t,2)\n",
    "solxpp"
   ]
  },
  {
   "cell_type": "code",
   "execution_count": 39,
   "metadata": {},
   "outputs": [
    {
     "data": {
      "image/png": "[encoded data removed]",
      "text/latex": [
       "$\\displaystyle \\frac{- L m \\sin{\\left(\\operatorname{th}{\\left(t \\right)} \\right)} \\cos{\\left(\\operatorname{th}{\\left(t \\right)} \\right)} \\left(\\frac{d}{d t} \\operatorname{th}{\\left(t \\right)}\\right)^{2} + M g \\sin{\\left(\\operatorname{th}{\\left(t \\right)} \\right)} + g m \\sin{\\left(\\operatorname{th}{\\left(t \\right)} \\right)} - u{\\left(t \\right)} \\cos{\\left(\\operatorname{th}{\\left(t \\right)} \\right)}}{L \\left(M + m \\sin^{2}{\\left(\\operatorname{th}{\\left(t \\right)} \\right)}\\right)}$"
      ],
      "text/plain": [
       "                                       2                                      \n",
       "                            ⎛d        ⎞                                       \n",
       "- L⋅m⋅sin(th(t))⋅cos(th(t))⋅⎜──(th(t))⎟  + M⋅g⋅sin(th(t)) + g⋅m⋅sin(th(t)) - u\n",
       "                            ⎝dt       ⎠                                       \n",
       "──────────────────────────────────────────────────────────────────────────────\n",
       "                                     ⎛         2       ⎞                      \n",
       "                                   L⋅⎝M + m⋅sin (th(t))⎠                      \n",
       "\n",
       "              \n",
       "              \n",
       "(t)⋅cos(th(t))\n",
       "              \n",
       "──────────────\n",
       "              \n",
       "              "
      ]
     },
     "execution_count": 39,
     "metadata": {},
     "output_type": "execute_result"
    }
   ],
   "source": [
    "eq6=eqs3[4].subs(diff(x,t,2),solxpp).simplify() #put this into second remaining equation \n",
    "#eq6 #its somewhat complex, but linear in diff(th,t,2)\n",
    "thpp=solve(eq6,diff(th,t,2))[0] #and solve for diff(th,t,2)\n",
    "thpp #note: the denominator is always strictly positive, no trouble here..."
   ]
  },
  {
   "cell_type": "code",
   "execution_count": 40,
   "metadata": {},
   "outputs": [
    {
     "data": {
      "image/png": "[encoded data removed]",
      "text/latex": [
       "$\\displaystyle \\frac{2 L m \\sin{\\left(\\operatorname{th}{\\left(t \\right)} \\right)} \\left(\\frac{d}{d t} \\operatorname{th}{\\left(t \\right)}\\right)^{2} - g m \\sin{\\left(2 \\operatorname{th}{\\left(t \\right)} \\right)} + 2 u{\\left(t \\right)}}{2 M + 2 m \\sin^{2}{\\left(\\operatorname{th}{\\left(t \\right)} \\right)}}$"
      ],
      "text/plain": [
       "                            2                            \n",
       "                 ⎛d        ⎞                             \n",
       "2⋅L⋅m⋅sin(th(t))⋅⎜──(th(t))⎟  - g⋅m⋅sin(2⋅th(t)) + 2⋅u(t)\n",
       "                 ⎝dt       ⎠                             \n",
       "─────────────────────────────────────────────────────────\n",
       "                               2                         \n",
       "                  2⋅M + 2⋅m⋅sin (th(t))                  "
      ]
     },
     "execution_count": 40,
     "metadata": {},
     "output_type": "execute_result"
    }
   ],
   "source": [
    "xpp=solxpp.subs(diff(th,t,2),thpp).simplify() #now take this solution and substitute it in solxpp to get diff(x,t,2)\n",
    "xpp"
   ]
  },
  {
   "cell_type": "code",
   "execution_count": 41,
   "metadata": {},
   "outputs": [
    {
     "name": "stdout",
     "output_type": "stream",
     "text": [
      "[xpp,thpp] at th= 0 : [u(t)/M, -u(t)/(L*M)]\n",
      "[xpp,thpp] at th= pi/2 : [(L*m*thp**2 + u(t))/(M + m), g/L]\n",
      "[xpp,thpp] at th= pi : [u(t)/M, u(t)/(L*M)]\n"
     ]
    }
   ],
   "source": [
    "#look at results for th at 3 angles. \n",
    "#be careful: th=0 should not replace diff(th,t) by zero, so replace it by thp.\n",
    "thp=symbols(\"thp\")\n",
    "for th_value in [0,pi/2,pi]:\n",
    "    print (\"[xpp,thpp] at th=\",th_value,\":\", [ex.subs(diff(th,t),thp).subs(th,th_value).simplify() for ex in [xpp,thpp]])\n",
    "#interpretation: for vertical pendulum, u just acts on M. \n",
    "# for horizontal pendulum, u acts on M+m, and in addition a centrifugal force m*thp²*L also acts on M+m "
   ]
  },
  {
   "cell_type": "code",
   "execution_count": 42,
   "metadata": {},
   "outputs": [
    {
     "data": {
      "image/png": "[encoded data removed]",
      "text/latex": [
       "$\\displaystyle \\left[ \\frac{m \\left(L thp^{2} - g\\right) \\operatorname{th}{\\left(t \\right)} + u{\\left(t \\right)}}{M}, \\  \\frac{\\left(- L m thp^{2} + M g + g m\\right) \\operatorname{th}{\\left(t \\right)} - u{\\left(t \\right)}}{L M}\\right]$"
      ],
      "text/plain": [
       "⎡  ⎛     2    ⎞               ⎛         2            ⎞             ⎤\n",
       "⎢m⋅⎝L⋅thp  - g⎠⋅th(t) + u(t)  ⎝- L⋅m⋅thp  + M⋅g + g⋅m⎠⋅th(t) - u(t)⎥\n",
       "⎢───────────────────────────, ─────────────────────────────────────⎥\n",
       "⎣             M                                L⋅M                 ⎦"
      ]
     },
     "execution_count": 42,
     "metadata": {},
     "output_type": "execute_result"
    }
   ],
   "source": [
    "res=subs(sfo([xpp,thpp]),{diff(th,t):thp}); res #simplify to first order in th, see above\n",
    "#[ex.subs(diff(th,t),thp).subs(sin(th),th).subs(sin(2*th),2*th).subs(cos(th),1).subs(th**2,0).simplify() for ex in [xpp,thpp]] #alternative way"
   ]
  },
  {
   "cell_type": "code",
   "execution_count": 43,
   "metadata": {},
   "outputs": [
    {
     "data": {
      "image/png": "[encoded data removed]",
      "text/latex": [
       "$\\displaystyle \\left[ - \\sqrt{\\frac{g}{L}}, \\  \\sqrt{\\frac{g}{L}}\\right]$"
      ],
      "text/plain": [
       "⎡     ___      ___⎤\n",
       "⎢    ╱ g      ╱ g ⎥\n",
       "⎢-  ╱  ─ ,   ╱  ─ ⎥\n",
       "⎣ ╲╱   L   ╲╱   L ⎦"
      ]
     },
     "execution_count": 43,
     "metadata": {},
     "output_type": "execute_result"
    }
   ],
   "source": [
    "#in both terms, thp can be ignored if L*m*th*thp² is much smaller than g*m. Lets solve for thp:\n",
    "#solve(Eq(L*m*thp**2,g*m),thp) #gives same result\n",
    "solve(Eq(res[0]*M-u,0),thp)\n",
    "#sqrt(g/L) is the natural oscillation angular frequency of the pendulum. thp can be ignored if thp is slower than this"
   ]
  },
  {
   "cell_type": "code",
   "execution_count": 44,
   "metadata": {},
   "outputs": [
    {
     "data": {
      "image/png": "[encoded data removed]",
      "text/latex": [
       "$\\displaystyle \\left( \\frac{- g m \\operatorname{th}{\\left(t \\right)} + u{\\left(t \\right)}}{M}, \\  \\frac{g \\left(M + m\\right) \\operatorname{th}{\\left(t \\right)} - u{\\left(t \\right)}}{L M}\\right)$"
      ],
      "text/plain": [
       "⎛-g⋅m⋅th(t) + u(t)  g⋅(M + m)⋅th(t) - u(t)⎞\n",
       "⎜─────────────────, ──────────────────────⎟\n",
       "⎝        M                   L⋅M          ⎠"
      ]
     },
     "execution_count": 44,
     "metadata": {},
     "output_type": "execute_result"
    }
   ],
   "source": [
    "#in that case, the 2nd derivatives (around th=0) simplify further:\n",
    "xpp0,thpp0=[resi.subs(thp,0).simplify() for resi in res]\n",
    "xpp0,thpp0"
   ]
  },
  {
   "cell_type": "code",
   "execution_count": 45,
   "metadata": {},
   "outputs": [
    {
     "data": {
      "text/latex": [
       "$\\displaystyle \\left[\\begin{matrix}0 & 1 & 0 & 0 & 0\\\\0 & 0 & - \\frac{g m}{M} & 0 & \\frac{1}{M}\\\\0 & 0 & 0 & 1 & 0\\\\0 & 0 & \\frac{g \\left(M + m\\right)}{L M} & 0 & - \\frac{1}{L M}\\end{matrix}\\right]$"
      ],
      "text/plain": [
       "⎡0  1      0      0   0 ⎤\n",
       "⎢                       ⎥\n",
       "⎢        -g⋅m         1 ⎥\n",
       "⎢0  0    ─────    0   ─ ⎥\n",
       "⎢          M          M ⎥\n",
       "⎢                       ⎥\n",
       "⎢0  0      0      1   0 ⎥\n",
       "⎢                       ⎥\n",
       "⎢      g⋅(M + m)     -1 ⎥\n",
       "⎢0  0  ─────────  0  ───⎥\n",
       "⎣         L⋅M        L⋅M⎦"
      ]
     },
     "execution_count": 45,
     "metadata": {},
     "output_type": "execute_result"
    }
   ],
   "source": [
    "#now let's build the coefficients for the state dynamic equation \n",
    "statevect=[x,diff(x,t),th,diff(th,t)]\n",
    "variables=statevect+[u]\n",
    "statevect_p=[diff(x,t),xpp0,diff(th,t),thpp0] #the time derivative of the state vector, using the equations of motion\n",
    "mat=Matrix([[diff(ex,vari).simplify() for vari in variables ] for ex in statevect_p])  #alternative way: ex.expand().coeff(vari).simplify(), but fails in complex settings\n",
    "assert((mat*Matrix(variables)-Matrix(statevect_p)).expand()== Matrix([[0], [0], [0], [0]])) #check that nothing was missed when building mat:\n",
    "mat"
   ]
  },
  {
   "cell_type": "code",
   "execution_count": 46,
   "metadata": {},
   "outputs": [],
   "source": [
    "###############################################################################################################################\n",
    "# now lets look at the real robot, not on a sliding wagon. The wheels are connected by a mechanical transmission to the motors, \n",
    "# which is connected to the body. So even for 1 wheel we have 3 mechanical parts: wheel, motor, body"
   ]
  },
  {
   "attachments": {
    "image.png": {
     "image/png": "[encoded data removed]"
    }
   },
   "cell_type": "markdown",
   "metadata": {},
   "source": [
    "![image.png](attachment:image.png)"
   ]
  },
  {
   "cell_type": "code",
   "execution_count": 47,
   "metadata": {},
   "outputs": [],
   "source": [
    "#let's use lagrange Mechanics to get to the equations of motion. Establishing forces between parts and eliminating them is much more complex\n",
    "M,r,Ir,mr,N,Im,g,Ib,m,L,z1 = symbols(\"M,r,Ir,mr,N,Im,g,Ib,m,L,z1\".replace(\",\",\" \")) #these are the constants of the system\n",
    "#M=mass of motors and wheels (centered at axes) = mr+mm\n",
    "t=symbols(\"t\") #this is the time\n",
    "Lagr,phi,x,xp,Ffloor,Faxle,alpha,delta,th,thp,Fxbody,h,Fhub,Trm,s,Fext,u = \\\n",
    "dynamicsymbols('Lagr,phi,x,xp,Ffloor,Faxle,alpha,delta,th,thp,Fxbody,h,Fhub,Trm,s,Fext,u'.replace(\",\",\" \")) #dynamicsymbols defines these as functions of time t\n",
    "u=Fext*r/N\n",
    "PotEn=m*g*h-(alpha-th)*u\n",
    "KinEn=(M*diff(x,t)**2+m*(diff(s,t)**2+diff(h,t)**2)+Ir*diff(phi,t)**2+Im*diff(alpha,t)**2+Ib*diff(th,t)**2)/S(2)\n",
    "#coordinates:x,s,h,phi,alpha,th -> must reduce to true dof x,th\n",
    "#for this, 4 equations needed. Equations introduce another new variable, delta. -> 5 equations employed\n",
    "eqs=[\n",
    "    Eq(Lagr,KinEn-PotEn), #0\n",
    "    Eq(phi,x/r), #1\n",
    "    Eq(alpha, N*delta+th), #2\n",
    "    Eq(delta,phi-th), #3, \n",
    "    Eq(h,r+L*cos(th)), #4\n",
    "    Eq(s,x+L*sin(th)), #5\n",
    "    #check: \n",
    "    Eq(0, M * diff(x,t,2)+m*diff(s,t,2)), #6, time derivative of \"intuitive\" momentum\n",
    "    Eq(0,diff(  KinEn  +  m*g*h  ,t)  -diff(  (N*delta),t)*u), #7, conservation of energy\n",
    "    ]"
   ]
  },
  {
   "cell_type": "code",
   "execution_count": 48,
   "metadata": {},
   "outputs": [],
   "source": [
    "solutions={}; tempx=[] #for debugging\n",
    "def useeq(eqs,eqnr,vari):\n",
    "    global solutions,tempx\n",
    "    solution=solve(eqs[eqnr],vari)[0] #.simplify() avoided\n",
    "    solutions[vari]=solution\n",
    "    result=[eq.subs(vari,solution).doit() for eq in eqs] #.doit() is actually helpful to execute differentiations\n",
    "    tempx+=[result]\n",
    "    return result\n",
    "temp=useeq(eqs,1,phi)\n",
    "temp=useeq(temp,3,delta)\n",
    "temp=useeq(temp,2,alpha)\n",
    "temp=useeq(temp,4,h)\n",
    "temp=useeq(temp,5,s)"
   ]
  },
  {
   "cell_type": "code",
   "execution_count": 49,
   "metadata": {},
   "outputs": [
    {
     "data": {
      "image/png": "[encoded data removed]",
      "text/latex": [
       "$\\displaystyle \\left\\{ \\frac{d^{2}}{d t^{2}} \\operatorname{th}{\\left(t \\right)} : \\frac{r \\left(L m \\sin{\\left(\\operatorname{th}{\\left(t \\right)} \\right)} \\left(\\frac{d}{d t} \\operatorname{th}{\\left(t \\right)}\\right)^{2} + \\operatorname{Fext}{\\left(t \\right)}\\right) \\left(- Im N^{2} + Im N + L m r \\cos{\\left(\\operatorname{th}{\\left(t \\right)} \\right)}\\right) - \\left(L g m \\sin{\\left(\\operatorname{th}{\\left(t \\right)} \\right)} - r \\operatorname{Fext}{\\left(t \\right)}\\right) \\left(Im N^{2} + Ir + M r^{2} + m r^{2}\\right)}{\\left(- Im N^{2} + Im N + L m r \\cos{\\left(\\operatorname{th}{\\left(t \\right)} \\right)}\\right)^{2} - \\left(Im N^{2} + Ir + M r^{2} + m r^{2}\\right) \\left(Ib + Im N^{2} - 2 Im N + Im + L^{2} m\\right)}, \\  \\frac{d^{2}}{d t^{2}} x{\\left(t \\right)} : \\frac{r \\left(- r \\left(L m \\sin{\\left(\\operatorname{th}{\\left(t \\right)} \\right)} \\left(\\frac{d}{d t} \\operatorname{th}{\\left(t \\right)}\\right)^{2} + \\operatorname{Fext}{\\left(t \\right)}\\right) \\left(Ib + Im N^{2} - 2 Im N + Im + L^{2} m\\right) + \\left(L g m \\sin{\\left(\\operatorname{th}{\\left(t \\right)} \\right)} - r \\operatorname{Fext}{\\left(t \\right)}\\right) \\left(- Im N^{2} + Im N + L m r \\cos{\\left(\\operatorname{th}{\\left(t \\right)} \\right)}\\right)\\right)}{\\left(- Im N^{2} + Im N + L m r \\cos{\\left(\\operatorname{th}{\\left(t \\right)} \\right)}\\right)^{2} - \\left(Im N^{2} + Ir + M r^{2} + m r^{2}\\right) \\left(Ib + Im N^{2} - 2 Im N + Im + L^{2} m\\right)}\\right\\}$"
      ],
      "text/plain": [
       "⎧              ⎛                          2          ⎞                        \n",
       "⎪              ⎜               ⎛d        ⎞           ⎟ ⎛      2               \n",
       "⎪  2         r⋅⎜L⋅m⋅sin(th(t))⋅⎜──(th(t))⎟  + Fext(t)⎟⋅⎝- Im⋅N  + Im⋅N + L⋅m⋅r\n",
       "⎪ d            ⎝               ⎝dt       ⎠           ⎠                        \n",
       "⎨───(th(t)): ─────────────────────────────────────────────────────────────────\n",
       "⎪  2                                                               2          \n",
       "⎪dt                             ⎛      2                          ⎞    ⎛    2 \n",
       "⎪                               ⎝- Im⋅N  + Im⋅N + L⋅m⋅r⋅cos(th(t))⎠  - ⎝Im⋅N  \n",
       "⎩                                                                             \n",
       "\n",
       "                                                                              \n",
       "           ⎞                                  ⎛    2           2      2⎞      \n",
       "⋅cos(th(t))⎠ - (L⋅g⋅m⋅sin(th(t)) - r⋅Fext(t))⋅⎝Im⋅N  + Ir + M⋅r  + m⋅r ⎠    2 \n",
       "                                                                           d  \n",
       "────────────────────────────────────────────────────────────────────────, ───(\n",
       "                                                                            2 \n",
       "          2      2⎞ ⎛         2                  2  ⎞                     dt  \n",
       "+ Ir + M⋅r  + m⋅r ⎠⋅⎝Ib + Im⋅N  - 2⋅Im⋅N + Im + L ⋅m⎠                         \n",
       "                                                                              \n",
       "\n",
       "         ⎛    ⎛                          2          ⎞                         \n",
       "         ⎜    ⎜               ⎛d        ⎞           ⎟ ⎛         2             \n",
       "       r⋅⎜- r⋅⎜L⋅m⋅sin(th(t))⋅⎜──(th(t))⎟  + Fext(t)⎟⋅⎝Ib + Im⋅N  - 2⋅Im⋅N + I\n",
       "         ⎝    ⎝               ⎝dt       ⎠           ⎠                         \n",
       "x(t)): ───────────────────────────────────────────────────────────────────────\n",
       "                                                                   2          \n",
       "                                ⎛      2                          ⎞    ⎛    2 \n",
       "                                ⎝- Im⋅N  + Im⋅N + L⋅m⋅r⋅cos(th(t))⎠  - ⎝Im⋅N  \n",
       "                                                                              \n",
       "\n",
       "                                                                              \n",
       "     2  ⎞                                  ⎛      2                          ⎞\n",
       "m + L ⋅m⎠ + (L⋅g⋅m⋅sin(th(t)) - r⋅Fext(t))⋅⎝- Im⋅N  + Im⋅N + L⋅m⋅r⋅cos(th(t))⎠\n",
       "                                                                              \n",
       "──────────────────────────────────────────────────────────────────────────────\n",
       "                                                                              \n",
       "          2      2⎞ ⎛         2                  2  ⎞                         \n",
       "+ Ir + M⋅r  + m⋅r ⎠⋅⎝Ib + Im⋅N  - 2⋅Im⋅N + Im + L ⋅m⎠                         \n",
       "                                                                              \n",
       "\n",
       "⎞⎫\n",
       "⎟⎪\n",
       "⎟⎪\n",
       "⎠⎪\n",
       "─⎬\n",
       " ⎪\n",
       " ⎪\n",
       " ⎪\n",
       " ⎭"
      ]
     },
     "execution_count": 49,
     "metadata": {},
     "output_type": "execute_result"
    }
   ],
   "source": [
    "Lis=temp[0].rhs.simplify() #\"Lis\": Lagrangian is\n",
    "eq1=Eq(diff(diff(Lis,diff(x,t)),t),diff(Lis,x)) #lagrangian equation of motion for x\n",
    "eq2=Eq(diff(diff(Lis,diff(th,t)),t),diff(Lis,th)) #lagrangian equation of motion for th\n",
    "solis=solve((eq1,eq2),(diff(x,t,2),diff(th,t,2)))\n",
    "solis #does not simplify further in the general case"
   ]
  },
  {
   "cell_type": "code",
   "execution_count": 50,
   "metadata": {},
   "outputs": [
    {
     "name": "stdout",
     "output_type": "stream",
     "text": [
      "{Derivative(x(t), (t, 2)): r*(-r*(L*m*sin(th(t))*Derivative(th(t), t)**2 + Fext(t))*(Ib + Im*N**2 - 2*Im*N + Im + L**2*m) + (L*g*m*sin(th(t)) - r*Fext(t))*(-Im*N**2 + Im*N + L*m*r*cos(th(t))))/((-Im*N**2 + Im*N + L*m*r*cos(th(t)))**2 - (Im*N**2 + Ir + M*r**2 + m*r**2)*(Ib + Im*N**2 - 2*Im*N + Im + L**2*m)), Derivative(th(t), (t, 2)): (r*(L*m*sin(th(t))*Derivative(th(t), t)**2 + Fext(t))*(-Im*N**2 + Im*N + L*m*r*cos(th(t))) - (L*g*m*sin(th(t)) - r*Fext(t))*(Im*N**2 + Ir + M*r**2 + m*r**2))/((-Im*N**2 + Im*N + L*m*r*cos(th(t)))**2 - (Im*N**2 + Ir + M*r**2 + m*r**2)*(Ib + Im*N**2 - 2*Im*N + Im + L**2*m))}\n"
     ]
    }
   ],
   "source": [
    "print(solis)"
   ]
  },
  {
   "cell_type": "code",
   "execution_count": 51,
   "metadata": {},
   "outputs": [
    {
     "data": {
      "text/latex": [
       "$\\displaystyle \\text{True}$"
      ],
      "text/plain": [
       "True"
      ]
     },
     "execution_count": 51,
     "metadata": {},
     "output_type": "execute_result"
    }
   ],
   "source": [
    "temp[7].subs(solis).simplify() #energy is conserved"
   ]
  },
  {
   "cell_type": "code",
   "execution_count": 52,
   "metadata": {},
   "outputs": [
    {
     "data": {
      "image/png": "[encoded data removed]",
      "text/latex": [
       "$\\displaystyle \\operatorname{Fext}{\\left(t \\right)}$"
      ],
      "text/plain": [
       "Fext(t)"
      ]
     },
     "execution_count": 52,
     "metadata": {},
     "output_type": "execute_result"
    }
   ],
   "source": [
    "Ffloor=(temp[-2].rhs) #this is force on the floor, the time derivative of the \"standard momentum\" M diff(x,t) + m diff(y,t)\n",
    "Ffloor2=Ffloor.subs(solis).simplify() #very messy expression\n",
    "Ffloor2.subs({Im:0,Ir:0,Ib:Ib}).simplify()  #nice. true for all th, N, diff(x,t), Ib, M, m, r. This is the reason why relating u to Fext in this way makes sense.\n",
    "# note that in other cases, Fext differs from the force on the ground (e.g. a robot falling over whith no u(t) applied may still exert a force on the floor)"
   ]
  },
  {
   "cell_type": "code",
   "execution_count": 53,
   "metadata": {},
   "outputs": [
    {
     "data": {
      "image/png": "[encoded data removed]",
      "text/latex": [
       "$\\displaystyle \\frac{- Im N^{2} g m \\operatorname{th}{\\left(t \\right)} - M r^{2} \\operatorname{Fext}{\\left(t \\right)}}{- Im N^{2} - M r^{2}}$"
      ],
      "text/plain": [
       "      2                2        \n",
       "- Im⋅N ⋅g⋅m⋅th(t) - M⋅r ⋅Fext(t)\n",
       "────────────────────────────────\n",
       "               2      2         \n",
       "         - Im⋅N  - M⋅r          "
      ]
     },
     "execution_count": 53,
     "metadata": {},
     "output_type": "execute_result"
    }
   ],
   "source": [
    "#the only other somewhat interpretable result I got for L>>r. Note that as r->0, Fext will have no effect\n",
    "Z=symbols(\"Z\")\n",
    "Ffloor3=Ffloor2.subs(L,Z*r).subs({Ir:0,sin(th):th,cos(th):1,sin(2*th):2*th,diff(th,t):0}).simplify() #.subs(Im*N**2,z1).subs(Im,0).subs(z1,Im*N**2).simplify()\n",
    "limit(Ffloor3,Z,oo)"
   ]
  },
  {
   "cell_type": "code",
   "execution_count": 54,
   "metadata": {},
   "outputs": [
    {
     "name": "stdout",
     "output_type": "stream",
     "text": [
      "at simple =  {Im: 0, Ir: 0, Ib: 0} :\n"
     ]
    },
    {
     "data": {
      "image/png": "[encoded data removed]",
      "text/latex": [
       "$\\displaystyle \\left( \\frac{L m \\left(L \\left(\\frac{d}{d t} \\operatorname{th}{\\left(t \\right)}\\right)^{2} - g\\right) \\operatorname{th}{\\left(t \\right)} + \\left(L + r\\right) \\operatorname{Fext}{\\left(t \\right)}}{L M}, \\  - \\frac{L m \\left(L m \\left(\\frac{d}{d t} \\operatorname{th}{\\left(t \\right)}\\right)^{2} - g \\left(M + m\\right)\\right) \\operatorname{th}{\\left(t \\right)} + \\left(L m + r \\left(M + m\\right)\\right) \\operatorname{Fext}{\\left(t \\right)}}{L^{2} M m}\\right)$"
      ],
      "text/plain": [
       "⎛    ⎛             2    ⎞                           ⎛    ⎛               2    \n",
       "⎜    ⎜  ⎛d        ⎞     ⎟                           ⎜    ⎜    ⎛d        ⎞     \n",
       "⎜L⋅m⋅⎜L⋅⎜──(th(t))⎟  - g⎟⋅th(t) + (L + r)⋅Fext(t)  -⎜L⋅m⋅⎜L⋅m⋅⎜──(th(t))⎟  - g\n",
       "⎜    ⎝  ⎝dt       ⎠     ⎠                           ⎝    ⎝    ⎝dt       ⎠     \n",
       "⎜────────────────────────────────────────────────, ───────────────────────────\n",
       "⎜                      L⋅M                                                    \n",
       "⎝                                                                             \n",
       "\n",
       "        ⎞                                  ⎞ ⎞\n",
       "        ⎟                                  ⎟ ⎟\n",
       "⋅(M + m)⎟⋅th(t) + (L⋅m + r⋅(M + m))⋅Fext(t)⎟ ⎟\n",
       "        ⎠                                  ⎠ ⎟\n",
       "─────────────────────────────────────────────⎟\n",
       "       2                                     ⎟\n",
       "      L ⋅M⋅m                                 ⎠"
      ]
     },
     "execution_count": 54,
     "metadata": {},
     "output_type": "execute_result"
    }
   ],
   "source": [
    "simple={Im:0,Ir:0,Ib:0}\n",
    "xppis,thppis=simp(sfo(subs(subs([diff(x,t,2),diff(th,t,2)],solis),simple)))\n",
    "print(\"at simple = \",simple,\":\")\n",
    "xppis,thppis"
   ]
  },
  {
   "cell_type": "code",
   "execution_count": 55,
   "metadata": {},
   "outputs": [
    {
     "name": "stdout",
     "output_type": "stream",
     "text": [
      "in addition at diff(th,t)==0:\n"
     ]
    },
    {
     "data": {
      "text/latex": [
       "$\\displaystyle \\left[\\begin{matrix}0 & 1 & 0 & 0 & 0\\\\0 & 0 & - \\frac{g m}{M} & 0 & \\frac{L + r}{L M}\\\\0 & 0 & 0 & 1 & 0\\\\0 & 0 & \\frac{g \\left(M + m\\right)}{L M} & 0 & - \\frac{L m + r \\left(M + m\\right)}{L^{2} M m}\\end{matrix}\\right]$"
      ],
      "text/plain": [
       "⎡0  1      0      0           0         ⎤\n",
       "⎢                                       ⎥\n",
       "⎢        -g⋅m               L + r       ⎥\n",
       "⎢0  0    ─────    0         ─────       ⎥\n",
       "⎢          M                 L⋅M        ⎥\n",
       "⎢                                       ⎥\n",
       "⎢0  0      0      1           0         ⎥\n",
       "⎢                                       ⎥\n",
       "⎢      g⋅(M + m)     -(L⋅m + r⋅(M + m)) ⎥\n",
       "⎢0  0  ─────────  0  ───────────────────⎥\n",
       "⎢         L⋅M                2          ⎥\n",
       "⎣                           L ⋅M⋅m      ⎦"
      ]
     },
     "execution_count": 55,
     "metadata": {},
     "output_type": "execute_result"
    }
   ],
   "source": [
    "xppis2,thppis2=subs([xppis,thppis],{diff(th,t):0})\n",
    "print(\"in addition at diff(th,t)==0:\")\n",
    "statevect=[x,diff(x,t),th,diff(th,t)]\n",
    "variables=statevect+[Fext]\n",
    "statevect_p=[diff(x,t),xppis2,diff(th,t),thppis2] #the time derivative of the state vector, using the equations of motion\n",
    "mat=Matrix([[diff(ex,vari).simplify() for vari in variables ] for ex in statevect_p])\n",
    "assert((mat*Matrix(variables)-Matrix(statevect_p)).expand()== Matrix([[0], [0], [0], [0]])) #check that nothing was missed when building mat:\n",
    "mat"
   ]
  },
  {
   "cell_type": "code",
   "execution_count": 56,
   "metadata": {},
   "outputs": [
    {
     "data": {
      "image/png": "[encoded data removed]",
      "text/latex": [
       "$\\displaystyle \\frac{L g m r \\left(- Im N^{2} + Im N + L m r \\cos{\\left(\\operatorname{th}{\\left(t \\right)} \\right)}\\right) \\sin{\\left(\\operatorname{th}{\\left(t \\right)} \\right)}}{\\left(- Im N^{2} + Im N + L m r \\cos{\\left(\\operatorname{th}{\\left(t \\right)} \\right)}\\right)^{2} - \\left(Im N^{2} + Ir + M r^{2} + m r^{2}\\right) \\left(Ib + Im N^{2} - 2 Im N + Im + L^{2} m\\right)}$"
      ],
      "text/plain": [
       "                               ⎛      2                          ⎞            \n",
       "                       L⋅g⋅m⋅r⋅⎝- Im⋅N  + Im⋅N + L⋅m⋅r⋅cos(th(t))⎠⋅sin(th(t)) \n",
       "──────────────────────────────────────────────────────────────────────────────\n",
       "                                   2                                          \n",
       "⎛      2                          ⎞    ⎛    2           2      2⎞ ⎛         2 \n",
       "⎝- Im⋅N  + Im⋅N + L⋅m⋅r⋅cos(th(t))⎠  - ⎝Im⋅N  + Ir + M⋅r  + m⋅r ⎠⋅⎝Ib + Im⋅N  \n",
       "\n",
       "                     \n",
       "                     \n",
       "─────────────────────\n",
       "                     \n",
       "                 2  ⎞\n",
       "- 2⋅Im⋅N + Im + L ⋅m⎠"
      ]
     },
     "execution_count": 56,
     "metadata": {},
     "output_type": "execute_result"
    }
   ],
   "source": [
    "#when the robot stands upright almost still and tips over, in which direction does it roll?\n",
    "#answer: it depends on the sign of the numerator of the following expression\n",
    "#when N>>1, Im*N can be ignored. Then there is a sign change around when Im N² ~ m L r\n",
    "#Interpretation: this happens when the motor as driven from the wheel has more inertia (Im N²) than the mass m from (geometric) average distance of l & r. \n",
    "diff(x,t,2).subs(solis).subs(Fext,0).subs(diff(th,t),0)"
   ]
  },
  {
   "cell_type": "code",
   "execution_count": 57,
   "metadata": {},
   "outputs": [
    {
     "name": "stdout",
     "output_type": "stream",
     "text": [
      "def dynamics():\n",
      "    Dyn_Nsq=N**2\n",
      "    Dyn_D2=(Im*Dyn_Nsq + Ir + M*r**2 + m*r**2)\n",
      "    Dyn_D3=(Ib + Im*Dyn_Nsq - 2*Im*N + Im + L**2*m)\n",
      "    Dyn_Lgm=L*g*m\n",
      "    Dyn_N0=-Im*Dyn_Nsq + Im*N\n",
      "    Dyn_Lmr=L*m*r\n",
      "    sinth=math.sin(th[t])\n",
      "    Fcentr2=(L*m*sinth*thp[t]**2 + Fextout[t])\n",
      "    N1=(Dyn_Lgm*sinth - r*Fextout[t])\n",
      "    N2=(Dyn_N0 + Dyn_Lmr*math.cos(th[t]))\n",
      "    D=(N2**2 - Dyn_D2*Dyn_D3)\n",
      "    xpp[t]=r*(-r*Fcentr2*Dyn_D3 + N1*N2)/D\n",
      "    thpp[t]=(r*Fcentr2*N2 - N1*Dyn_D2)/D\n"
     ]
    }
   ],
   "source": [
    "########################################################################################################################\n",
    "#dynamics: calculates system dynamics, i.e. xpp and thpp from state. \n",
    "#now lets generate code that efficiently evaluates the equations for the accelerations\n",
    "#This code is for importation to the simulator\n",
    "#to get to this code, manually add simpcmd lines: introduce intermediate quantities that are used more than once later\n",
    "xppn,thppn=subs([diff(x,t,2),diff(th,t,2)],solis)\n",
    "cmd = \\\n",
    "\"    xpp[t]=\"+repr(xppn)+\"\\n\"+ \\\n",
    "\"    thpp[t]=\"+repr(thppn)\n",
    "declarations=\"\";\n",
    "cmd2=\"\"+cmd\n",
    "def simpcmd(t1,t2,adddeclaration=1):\n",
    "    global declarations, cmd2\n",
    "    if adddeclaration: declarations+=\"    \"+t1+\"=\"+t2+\"\\n\"\n",
    "    cmd2=cmd2.replace(t2,t1)\n",
    "simpcmd(\"Fextout[t]\",\"Fext(t)\",0)\n",
    "simpcmd(\"th[t]\",\"th(t)\",0)\n",
    "simpcmd(\"thp[t]\",\"Derivative(th[t], t)\",0)\n",
    "simpcmd(\"xp[t]\",\"Derivative(x[t], t)\",0)\n",
    "simpcmd(\"math.sin(th[t])\",\"sin(th[t])\",0)\n",
    "simpcmd(\"math.cos(th[t])\",\"cos(th[t])\",0)\n",
    "simpcmd(\"Dyn_Nsq\",\"N**2\")\n",
    "simpcmd(\"Dyn_D2\",\"(Im*Dyn_Nsq + Ir + M*r**2 + m*r**2)\")\n",
    "simpcmd(\"Dyn_D3\",\"(Ib + Im*Dyn_Nsq - 2*Im*N + Im + L**2*m)\")\n",
    "simpcmd(\"Dyn_Lgm\",\"L*g*m\")\n",
    "simpcmd(\"Dyn_N0\",\"-Im*Dyn_Nsq + Im*N\")\n",
    "simpcmd(\"Dyn_Lmr\",\"L*m*r\")\n",
    "simpcmd(\"sinth\",\"math.sin(th[t])\")\n",
    "simpcmd(\"Fcentr2\",\"(L*m*sinth*thp[t]**2 + Fextout[t])\")\n",
    "simpcmd(\"N1\",\"(Dyn_Lgm*sinth - r*Fextout[t])\")\n",
    "simpcmd(\"N2\",\"(Dyn_N0 + Dyn_Lmr*math.cos(th[t]))\")\n",
    "simpcmd(\"D\",\"(N2**2 - Dyn_D2*Dyn_D3)\")\n",
    "print(\"def dynamics():\\n\" + declarations + cmd2)"
   ]
  },
  {
   "cell_type": "code",
   "execution_count": null,
   "metadata": {},
   "outputs": [],
   "source": []
  }
 ],
 "metadata": {
  "kernelspec": {
   "display_name": "Python 3.7 (tensorflow)",
   "language": "python",
   "name": "tensorflow"
  },
  "language_info": {
   "codemirror_mode": {
    "name": "ipython",
    "version": 3
   },
   "file_extension": ".py",
   "mimetype": "text/x-python",
   "name": "python",
   "nbconvert_exporter": "python",
   "pygments_lexer": "ipython3",
   "version": "3.7.9"
  }
 },
 "nbformat": 4,
 "nbformat_minor": 4
}
